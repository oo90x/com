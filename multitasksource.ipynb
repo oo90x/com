{
  "nbformat": 4,
  "nbformat_minor": 0,
  "metadata": {
    "colab": {
      "provenance": []
    },
    "kernelspec": {
      "name": "python3",
      "display_name": "Python 3"
    },
    "language_info": {
      "name": "python"
    }
  },
  "cells": [
    {
      "cell_type": "code",
      "execution_count": null,
      "metadata": {
        "id": "Hzqeu4VPRViR"
      },
      "outputs": [],
      "source": [
        "import os\n",
        "import pandas as pd\n",
        "import numpy as np\n",
        "from PIL import Image\n",
        "from sklearn.preprocessing import LabelEncoder\n",
        "from sklearn.model_selection import train_test_split\n",
        "from tqdm import tqdm\n",
        "\n",
        "import torch\n",
        "import torch.nn as nn\n",
        "from torch.utils.data import Dataset, DataLoader\n",
        "import torchvision.transforms as transforms\n",
        "import torchvision.models as models"
      ]
    },
    {
      "cell_type": "code",
      "source": [
        "CSV_PATH = \"path/to/train.csv\"\n",
        "IMG_ROOT = \"path/to/image/folder\"  # os.path.join(IMG_ROOT, image_path)\n",
        "BATCH_SIZE = 32\n",
        "NUM_WORKERS = 2\n",
        "NUM_EPOCHS = 10\n",
        "LR = 1e-4\n",
        "IMG_SIZE = 224"
      ],
      "metadata": {
        "id": "f0B9JHAARdR1"
      },
      "execution_count": null,
      "outputs": []
    },
    {
      "cell_type": "code",
      "source": [
        "df = pd.read_csv(CSV_PATH)\n",
        "\n",
        "label_encoder = LabelEncoder()\n",
        "df[\"class_encoded\"] = label_encoder.fit_transform(df[\"class\"])\n",
        "num_classes = len(label_encoder.classes_)\n",
        "print(f\"Total Classes: {num_classes}\")"
      ],
      "metadata": {
        "id": "2yUWGZNDRf_x"
      },
      "execution_count": null,
      "outputs": []
    },
    {
      "cell_type": "code",
      "source": [
        "class FoodDataset(Dataset):\n",
        "    def __init__(self, df, img_root, transform=None):\n",
        "        self.df = df.reset_index(drop=True)\n",
        "        self.img_root = img_root\n",
        "        self.transform = transform\n",
        "\n",
        "    def __len__(self):\n",
        "        return len(self.df)\n",
        "\n",
        "    def __getitem__(self, idx):\n",
        "        row = self.df.iloc[idx]\n",
        "        img_path = os.path.join(self.img_root, row[\"Image\"])\n",
        "        image = Image.open(img_path).convert(\"RGB\")\n",
        "\n",
        "        if self.transform:\n",
        "            image = self.transform(image)\n",
        "\n",
        "        label_class = row[\"class_encoded\"]\n",
        "        label_mos = row[\"mos\"]\n",
        "\n",
        "        return image, torch.tensor(label_class), torch.tensor(label_mos, dtype=torch.float32)"
      ],
      "metadata": {
        "id": "BldDERQoRhz9"
      },
      "execution_count": null,
      "outputs": []
    },
    {
      "cell_type": "code",
      "source": [
        "transform = transforms.Compose([\n",
        "    transforms.Resize((IMG_SIZE, IMG_SIZE)),\n",
        "    transforms.ToTensor(),\n",
        "])\n",
        "\n",
        "train_df, val_df = train_test_split(df, test_size=0.2, stratify=df[\"class_encoded\"], random_state=42)\n",
        "\n",
        "train_dataset = FoodDataset(train_df, IMG_ROOT, transform)\n",
        "val_dataset = FoodDataset(val_df, IMG_ROOT, transform)\n",
        "\n",
        "train_loader = DataLoader(train_dataset, batch_size=BATCH_SIZE, shuffle=True, num_workers=NUM_WORKERS)\n",
        "val_loader = DataLoader(val_dataset, batch_size=BATCH_SIZE, shuffle=False, num_workers=NUM_WORKERS)"
      ],
      "metadata": {
        "id": "GtE1c0aNRjhI"
      },
      "execution_count": null,
      "outputs": []
    },
    {
      "cell_type": "code",
      "source": [
        "class MultiTaskNet(nn.Module):\n",
        "    def __init__(self, num_classes):\n",
        "        super(MultiTaskNet, self).__init__()\n",
        "        base = models.resnet18(pretrained=True)\n",
        "        self.backbone = nn.Sequential(*list(base.children())[:-1])\n",
        "        self.flatten = nn.Flatten()\n",
        "        self.class_head = nn.Sequential(\n",
        "            nn.Linear(512, 128),\n",
        "            nn.ReLU(),\n",
        "            nn.Linear(128, num_classes)\n",
        "        )\n",
        "        self.reg_head = nn.Sequential(\n",
        "            nn.Linear(512, 64),\n",
        "            nn.ReLU(),\n",
        "            nn.Linear(64, 1)\n",
        "        )\n",
        "\n",
        "    def forward(self, x):\n",
        "        x = self.backbone(x)\n",
        "        x = self.flatten(x)\n",
        "        return self.class_head(x), self.reg_head(x).squeeze(1)"
      ],
      "metadata": {
        "id": "mUY2Au_JRm38"
      },
      "execution_count": null,
      "outputs": []
    },
    {
      "cell_type": "code",
      "source": [
        "device = torch.device(\"cuda\" if torch.cuda.is_available() else \"cpu\")\n",
        "model = MultiTaskNet(num_classes).to(device)\n",
        "\n",
        "criterion_class = nn.CrossEntropyLoss()\n",
        "criterion_reg = nn.MSELoss()\n",
        "optimizer = torch.optim.Adam(model.parameters(), lr=LR)"
      ],
      "metadata": {
        "id": "9vBETdeXRwsw"
      },
      "execution_count": null,
      "outputs": []
    },
    {
      "cell_type": "code",
      "source": [
        "for epoch in range(NUM_EPOCHS):\n",
        "    model.train()\n",
        "    total_loss = 0\n",
        "    for x, y_class, y_reg in tqdm(train_loader):\n",
        "        x, y_class, y_reg = x.to(device), y_class.to(device), y_reg.to(device)\n",
        "\n",
        "        pred_class, pred_reg = model(x)\n",
        "\n",
        "        loss_class = criterion_class(pred_class, y_class)\n",
        "        loss_reg = criterion_reg(pred_reg, y_reg)\n",
        "        loss = loss_class + loss_reg\n",
        "\n",
        "        optimizer.zero_grad()\n",
        "        loss.backward()\n",
        "        optimizer.step()\n",
        "\n",
        "        total_loss += loss.item()\n",
        "\n",
        "    print(f\"Epoch {epoch+1}/{NUM_EPOCHS}, Loss: {total_loss/len(train_loader):.4f}\")"
      ],
      "metadata": {
        "id": "PeJG7IVDRxPv"
      },
      "execution_count": null,
      "outputs": []
    },
    {
      "cell_type": "code",
      "source": [
        "model.eval()\n",
        "correct = 0\n",
        "total = 0\n",
        "mae = 0\n",
        "\n",
        "with torch.no_grad():\n",
        "    for x, y_class, y_reg in val_loader:\n",
        "        x, y_class, y_reg = x.to(device), y_class.to(device), y_reg.to(device)\n",
        "\n",
        "        pred_class, pred_reg = model(x)\n",
        "        predicted = pred_class.argmax(1)\n",
        "        correct += (predicted == y_class).sum().item()\n",
        "        total += y_class.size(0)\n",
        "\n",
        "        mae += torch.abs(pred_reg - y_reg).sum().item()\n",
        "\n",
        "accuracy = correct / total\n",
        "mae = mae / total\n",
        "\n",
        "print(f\"Validation Accuracy: {accuracy:.4f}, MAE (mos): {mae:.4f}\")"
      ],
      "metadata": {
        "id": "-dwiJMS1RzdD"
      },
      "execution_count": null,
      "outputs": []
    },
    {
      "cell_type": "code",
      "source": [
        "submission_df = pd.read_csv(\"path/to/submission.csv\")\n",
        "submission_dataset = FoodDataset(submission_df, IMG_ROOT, transform)\n",
        "submission_loader = DataLoader(submission_dataset, batch_size=BATCH_SIZE, shuffle=False)\n",
        "\n",
        "model.eval()\n",
        "predicted_classes = []\n",
        "predicted_mos = []\n",
        "\n",
        "with torch.no_grad():\n",
        "    for x, _, _ in submission_loader:\n",
        "        x = x.to(device)\n",
        "        pred_class, pred_reg = model(x)\n",
        "\n",
        "        predicted_classes.extend(pred_class.argmax(1).cpu().numpy())\n",
        "        predicted_mos.extend(pred_reg.cpu().numpy())\n",
        "\n",
        "submission_df[\"MOS\"] = predicted_mos\n",
        "submission_df[\"Class\"] = label_encoder.inverse_transform(predicted_classes)\n",
        "\n",
        "submission_df.to_csv(\"submission_result.csv\", index=False)\n",
        "print(\"Submission saved to submission_result.csv\")"
      ],
      "metadata": {
        "id": "VhZBRYQoR8rp"
      },
      "execution_count": null,
      "outputs": []
    }
  ]
}