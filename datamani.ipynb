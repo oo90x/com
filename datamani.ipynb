{
  "nbformat": 4,
  "nbformat_minor": 0,
  "metadata": {
    "colab": {
      "provenance": []
    },
    "kernelspec": {
      "name": "python3",
      "display_name": "Python 3"
    },
    "language_info": {
      "name": "python"
    }
  },
  "cells": [
    {
      "cell_type": "code",
      "execution_count": null,
      "metadata": {
        "id": "zDUGxcozkiFa"
      },
      "outputs": [],
      "source": [
        "import os\n",
        "import pandas as pd\n",
        "from PIL import Image\n",
        "from torch.utils.data import Dataset\n",
        "import torch\n",
        "\n",
        "class FoodDataset(Dataset):\n",
        "    def __init__(self, csv_file, img_root_dir, label_encoder=None, transform=None):\n",
        "        \"\"\"\n",
        "        csv_file: path to train.csv\n",
        "        img_root_dir: root path to image folder (not including relative path)\n",
        "        label_encoder: sklearn LabelEncoder instance (optional)\n",
        "        transform: torchvision transforms\n",
        "        \"\"\"\n",
        "        self.df = pd.read_csv(csv_file).reset_index(drop=True)\n",
        "        self.img_root_dir = img_root_dir\n",
        "        self.transform = transform\n",
        "\n",
        "        # แปลงชื่อ class เป็นตัวเลข\n",
        "        if label_encoder is None:\n",
        "            from sklearn.preprocessing import LabelEncoder\n",
        "            self.le = LabelEncoder()\n",
        "            self.df['class_encoded'] = self.le.fit_transform(self.df['class'])\n",
        "        else:\n",
        "            self.le = label_encoder\n",
        "            self.df['class_encoded'] = self.le.transform(self.df['class'])\n",
        "\n",
        "    def __len__(self):\n",
        "        return len(self.df)\n",
        "\n",
        "    def __getitem__(self, idx):\n",
        "        row = self.df.iloc[idx]\n",
        "\n",
        "        img_path = os.path.join(self.img_root_dir, row['Image'])  # img_root + relative path\n",
        "        image = Image.open(img_path).convert(\"RGB\")\n",
        "\n",
        "        if self.transform:\n",
        "            image = self.transform(image)\n",
        "\n",
        "        label_class = torch.tensor(row['class_encoded'], dtype=torch.long)\n",
        "        label_mos = torch.tensor(row['mos'], dtype=torch.float32)\n",
        "\n",
        "        return image, label_class, label_mos"
      ]
    },
    {
      "cell_type": "code",
      "source": [
        "from torchvision import transforms\n",
        "from sklearn.preprocessing import LabelEncoder\n",
        "from torch.utils.data import DataLoader\n",
        "\n",
        "# Path to data\n",
        "CSV_PATH = \"train.csv\"\n",
        "IMG_ROOT = \"images\"  # root dir ที่รวม train/img1.jpg ไว้\n",
        "\n",
        "# Transform สำหรับรูป\n",
        "transform = transforms.Compose([\n",
        "    transforms.Resize((224, 224)),\n",
        "    transforms.ToTensor()\n",
        "])\n",
        "\n",
        "# สร้าง dataset และ dataloader\n",
        "dataset = FoodDataset(CSV_PATH, IMG_ROOT, transform=transform)\n",
        "dataloader = DataLoader(dataset, batch_size=32, shuffle=True)\n",
        "\n",
        "# Test\n",
        "img, label_class, label_mos = dataset[0]\n",
        "print(\"Image shape:\", img.shape)\n",
        "print(\"Class label (int):\", label_class)\n",
        "print(\"MOS:\", label_mos)\n",
        "print(\"Class name:\", dataset.le.inverse_transform([label_class.item()])[0])"
      ],
      "metadata": {
        "id": "DJP8Tc2G1vWP"
      },
      "execution_count": null,
      "outputs": []
    }
  ]
}